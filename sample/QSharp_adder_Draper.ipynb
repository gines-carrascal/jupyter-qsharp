{
 "cells": [
  {
   "cell_type": "code",
   "execution_count": 53,
   "metadata": {},
   "outputs": [
    {
     "data": {
      "application/json": "[\"Adder\"]",
      "text/html": [
       "<ul><li>Adder</li></ul>"
      ],
      "text/plain": [
       "Adder"
      ]
     },
     "execution_count": 53,
     "metadata": {},
     "output_type": "execute_result"
    }
   ],
   "source": [
    "open Microsoft.Quantum.Arithmetic;\n",
    "\n",
    "operation Adder () : Int {\n",
    "    Message(\"Starting adder!\");\n",
    "    let n = 4;\n",
    "    n+=1;\n",
    "    let sumando_1 = [\"0\",\"0\",\"0\",\"1\"];//Microsoft.Quantum.Convert.IntAsBoolArray(1, n);\n",
    "    let sumando_2 = [\"0\",\"0\",\"0\",\"1\"];//Microsoft.Quantum.Convert.IntAsBoolArray(1, n);\n",
    "    mutable result = 0;\n",
    "    \n",
    "    using (qs = Qubit[n * 3 + 1]){\n",
    "\n",
    "\n",
    "        let a = qs[0..n-1];\n",
    "        let b = qs[n..2*n];\n",
    "       \n",
    "        \n",
    "        for (i in 1..n-1){\n",
    "            if (sumando_1[i]==\"1\"){       \n",
    "                X(a[n - (i+1)]);\n",
    "            }\n",
    "        }\n",
    "        for (i in 1..n-1){\n",
    "            if (sumando_2[i]==\"1\"){\n",
    "                X(b[n - (i+1)]);\n",
    "            }\n",
    "        }\n",
    "       \n",
    "        for (i = n; i > 0; i--){\n",
    "            p += H(b[i-1])\n",
    "\n",
    "            for j in range(i-1,0,-1):\n",
    "                p += CPHASE(2*pi/2**(i-j+1), b[j-1], b[i-1])\n",
    "            }\n",
    "        }\n",
    "\n",
    "        for (i = n; i > 0; i--){\n",
    "            for (j = i; j > 0; i--){\n",
    "                p += CPHASE(2*pi/2**(i-j+1), a[j-1], b[i-1])\n",
    "            }\n",
    "        }\n",
    "\n",
    "        for (i in 1..n){\n",
    "            for (j in 1..i-1){\n",
    "                p += CPHASE(-2*pi/2**(i-j+1), b[j-1], b[i-1])\n",
    "            }\n",
    "            p += H(b[i-1])\n",
    "        }\n",
    "\n",
    "        set result = MeasureInteger(LittleEndian(b));\n",
    "\n",
    "        ResetAll(qs);\n",
    "\n",
    "    }\n",
    "    return result;\n",
    "}"
   ]
  },
  {
   "cell_type": "code",
   "execution_count": 54,
   "metadata": {},
   "outputs": [
    {
     "name": "stdout",
     "output_type": "stream",
     "text": [
      "Starting adder!\n"
     ]
    },
    {
     "data": {
      "application/json": "2",
      "text/plain": [
       "2"
      ]
     },
     "execution_count": 54,
     "metadata": {},
     "output_type": "execute_result"
    }
   ],
   "source": [
    "%simulate Adder"
   ]
  },
  {
   "cell_type": "code",
   "execution_count": 55,
   "metadata": {},
   "outputs": [
    {
     "data": {
      "application/json": "[{\"Metric\":\"CNOT\",\"Sum\":154.0},{\"Metric\":\"QubitClifford\",\"Sum\":30.0},{\"Metric\":\"R\",\"Sum\":0.0},{\"Metric\":\"Measure\",\"Sum\":18.0},{\"Metric\":\"T\",\"Sum\":98.0},{\"Metric\":\"Depth\",\"Sum\":38.0},{\"Metric\":\"Width\",\"Sum\":13.0},{\"Metric\":\"BorrowedWidth\",\"Sum\":0.0}]",
      "text/html": [
       "<table><thead><tr><th>Metric</th><th>Sum</th></tr></thead><tbody><tr><td>CNOT</td><td>154</td></tr><tr><td>QubitClifford</td><td>30</td></tr><tr><td>R</td><td>0</td></tr><tr><td>Measure</td><td>18</td></tr><tr><td>T</td><td>98</td></tr><tr><td>Depth</td><td>38</td></tr><tr><td>Width</td><td>13</td></tr><tr><td>BorrowedWidth</td><td>0</td></tr></tbody></table>"
      ],
      "text/plain": [
       "Metric        Sum\n",
       "------------- ---\n",
       "CNOT          154\n",
       "QubitClifford 30\n",
       "R             0\n",
       "Measure       18\n",
       "T             98\n",
       "Depth         38\n",
       "Width         13\n",
       "BorrowedWidth 0\n"
      ]
     },
     "execution_count": 55,
     "metadata": {},
     "output_type": "execute_result"
    }
   ],
   "source": [
    "%estimate Adder"
   ]
  },
  {
   "cell_type": "code",
   "execution_count": 56,
   "metadata": {},
   "outputs": [
    {
     "data": {
      "application/json": "{\"rows\":[{\"@type\":\"@tuple\",\"Item1\":\"iqsharp\",\"Item2\":\"0.11.2003.3107\"},{\"@type\":\"@tuple\",\"Item1\":\"Jupyter Core\",\"Item2\":\"1.2.36563.0\"},{\"@type\":\"@tuple\",\"Item1\":\".NET Runtime\",\"Item2\":\".NETCoreApp,Version=v3.1\"}]}",
      "text/html": [
       "<table><thead><tr><th>Component</th><th>Version</th></tr></thead><tbody><tr><td>iqsharp</td><td>0.11.2003.3107</td></tr><tr><td>Jupyter Core</td><td>1.2.36563.0</td></tr><tr><td>.NET Runtime</td><td>.NETCoreApp,Version=v3.1</td></tr></tbody></table>"
      ],
      "text/plain": [
       "Component    Version\n",
       "------------ ------------------------\n",
       "iqsharp      0.11.2003.3107\n",
       "Jupyter Core 1.2.36563.0\n",
       ".NET Runtime .NETCoreApp,Version=v3.1\n"
      ]
     },
     "metadata": {},
     "output_type": "display_data"
    }
   ],
   "source": [
    "%version"
   ]
  },
  {
   "cell_type": "code",
   "execution_count": null,
   "metadata": {},
   "outputs": [],
   "source": []
  }
 ],
 "metadata": {
  "kernelspec": {
   "display_name": "Q#",
   "language": "qsharp",
   "name": "iqsharp"
  },
  "language_info": {
   "file_extension": ".qs",
   "mimetype": "text/x-qsharp",
   "name": "qsharp",
   "version": "0.10"
  }
 },
 "nbformat": 4,
 "nbformat_minor": 4
}